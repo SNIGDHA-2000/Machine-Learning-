{
 "cells": [
  {
   "cell_type": "code",
   "execution_count": 1,
   "id": "8e6f1919-105f-4462-8682-1c9d962fa45a",
   "metadata": {},
   "outputs": [],
   "source": [
    "import pandas as pd\n",
    "import numpy as np\n",
    "import matplotlib.pyplot as plt\n",
    "import seaborn as sns\n",
    "\n",
    "from sklearn.preprocessing import LabelEncoder, OneHotEncoder, StandardScaler, MinMaxScaler\n",
    "\n"
   ]
  },
  {
   "cell_type": "code",
   "execution_count": 3,
   "id": "4d105120-df33-4745-845e-7b97db6baf7f",
   "metadata": {},
   "outputs": [
    {
     "data": {
      "text/html": [
       "<div>\n",
       "<style scoped>\n",
       "    .dataframe tbody tr th:only-of-type {\n",
       "        vertical-align: middle;\n",
       "    }\n",
       "\n",
       "    .dataframe tbody tr th {\n",
       "        vertical-align: top;\n",
       "    }\n",
       "\n",
       "    .dataframe thead th {\n",
       "        text-align: right;\n",
       "    }\n",
       "</style>\n",
       "<table border=\"1\" class=\"dataframe\">\n",
       "  <thead>\n",
       "    <tr style=\"text-align: right;\">\n",
       "      <th></th>\n",
       "      <th>Company</th>\n",
       "      <th>Age</th>\n",
       "      <th>Salary</th>\n",
       "      <th>Place</th>\n",
       "      <th>Country</th>\n",
       "      <th>Gender</th>\n",
       "    </tr>\n",
       "  </thead>\n",
       "  <tbody>\n",
       "    <tr>\n",
       "      <th>0</th>\n",
       "      <td>TCS</td>\n",
       "      <td>20.0</td>\n",
       "      <td>NaN</td>\n",
       "      <td>Chennai</td>\n",
       "      <td>India</td>\n",
       "      <td>0</td>\n",
       "    </tr>\n",
       "    <tr>\n",
       "      <th>1</th>\n",
       "      <td>Infosys</td>\n",
       "      <td>30.0</td>\n",
       "      <td>NaN</td>\n",
       "      <td>Mumbai</td>\n",
       "      <td>India</td>\n",
       "      <td>0</td>\n",
       "    </tr>\n",
       "    <tr>\n",
       "      <th>2</th>\n",
       "      <td>TCS</td>\n",
       "      <td>35.0</td>\n",
       "      <td>2300.0</td>\n",
       "      <td>Calcutta</td>\n",
       "      <td>India</td>\n",
       "      <td>0</td>\n",
       "    </tr>\n",
       "    <tr>\n",
       "      <th>3</th>\n",
       "      <td>Infosys</td>\n",
       "      <td>40.0</td>\n",
       "      <td>3000.0</td>\n",
       "      <td>Delhi</td>\n",
       "      <td>India</td>\n",
       "      <td>0</td>\n",
       "    </tr>\n",
       "    <tr>\n",
       "      <th>4</th>\n",
       "      <td>TCS</td>\n",
       "      <td>23.0</td>\n",
       "      <td>4000.0</td>\n",
       "      <td>Mumbai</td>\n",
       "      <td>India</td>\n",
       "      <td>0</td>\n",
       "    </tr>\n",
       "  </tbody>\n",
       "</table>\n",
       "</div>"
      ],
      "text/plain": [
       "   Company   Age  Salary     Place Country  Gender\n",
       "0      TCS  20.0     NaN   Chennai   India       0\n",
       "1  Infosys  30.0     NaN    Mumbai   India       0\n",
       "2      TCS  35.0  2300.0  Calcutta   India       0\n",
       "3  Infosys  40.0  3000.0     Delhi   India       0\n",
       "4      TCS  23.0  4000.0    Mumbai   India       0"
      ]
     },
     "execution_count": 3,
     "metadata": {},
     "output_type": "execute_result"
    }
   ],
   "source": [
    "df = pd.read_csv(\"Employee.csv\")\n",
    "df.head()\n"
   ]
  },
  {
   "cell_type": "markdown",
   "id": "549dda1a-13df-4fcf-a993-823c5403b01a",
   "metadata": {},
   "source": [
    "Data Exploration:Explore the data, list down the unique values in each feature and find its length. Perform the statistical analysis and renaming of the columns. "
   ]
  },
  {
   "cell_type": "code",
   "execution_count": 6,
   "id": "8113afae-711f-401a-a37a-ba655ed4600e",
   "metadata": {},
   "outputs": [
    {
     "name": "stdout",
     "output_type": "stream",
     "text": [
      "Company - Unique Values: ['TCS' 'Infosys' 'CTS' nan 'Tata Consultancy Services' 'Congnizant'\n",
      " 'Infosys Pvt Lmt']\n",
      "Length of unique values: 7\n",
      "Age - Unique Values: [20. 30. 35. 40. 23. nan 34. 45. 18. 22. 32. 37. 50. 21. 46. 36. 26. 41.\n",
      " 24. 25. 43. 19. 38. 51. 31. 44. 33. 17.  0. 54.]\n",
      "Length of unique values: 30\n",
      "Salary - Unique Values: [  nan 2300. 3000. 4000. 5000. 6000. 7000. 8000. 9000. 1089. 1234. 3030.\n",
      " 3045. 3184. 4824. 5835. 7084. 8943. 8345. 9284. 9876. 2034. 7654. 2934.\n",
      " 4034. 5034. 8202. 9024. 4345. 6544. 6543. 3234. 4324. 5435. 5555. 8787.\n",
      " 3454. 5654. 5009. 5098. 3033.]\n",
      "Length of unique values: 41\n",
      "Place - Unique Values: ['Chennai' 'Mumbai' 'Calcutta' 'Delhi' 'Podicherry' 'Cochin' nan 'Noida'\n",
      " 'Hyderabad' 'Bhopal' 'Nagpur' 'Pune']\n",
      "Length of unique values: 12\n",
      "Country - Unique Values: ['India']\n",
      "Length of unique values: 1\n",
      "Gender - Unique Values: [0 1]\n",
      "Length of unique values: 2\n"
     ]
    }
   ],
   "source": [
    "for column in df.columns:\n",
    "    print(f\"{column} - Unique Values: {df[column].unique()}\")\n",
    "    print(f\"Length of unique values: {len(df[column].unique())}\")\n"
   ]
  },
  {
   "cell_type": "code",
   "execution_count": 7,
   "id": "525ecad1-6f3d-4c1a-abd3-05626b2a00c4",
   "metadata": {},
   "outputs": [
    {
     "data": {
      "text/html": [
       "<div>\n",
       "<style scoped>\n",
       "    .dataframe tbody tr th:only-of-type {\n",
       "        vertical-align: middle;\n",
       "    }\n",
       "\n",
       "    .dataframe tbody tr th {\n",
       "        vertical-align: top;\n",
       "    }\n",
       "\n",
       "    .dataframe thead th {\n",
       "        text-align: right;\n",
       "    }\n",
       "</style>\n",
       "<table border=\"1\" class=\"dataframe\">\n",
       "  <thead>\n",
       "    <tr style=\"text-align: right;\">\n",
       "      <th></th>\n",
       "      <th>Company</th>\n",
       "      <th>Age</th>\n",
       "      <th>Salary</th>\n",
       "      <th>Place</th>\n",
       "      <th>Country</th>\n",
       "      <th>Gender</th>\n",
       "    </tr>\n",
       "  </thead>\n",
       "  <tbody>\n",
       "    <tr>\n",
       "      <th>count</th>\n",
       "      <td>140</td>\n",
       "      <td>130.000000</td>\n",
       "      <td>124.000000</td>\n",
       "      <td>134</td>\n",
       "      <td>148</td>\n",
       "      <td>148.000000</td>\n",
       "    </tr>\n",
       "    <tr>\n",
       "      <th>unique</th>\n",
       "      <td>6</td>\n",
       "      <td>NaN</td>\n",
       "      <td>NaN</td>\n",
       "      <td>11</td>\n",
       "      <td>1</td>\n",
       "      <td>NaN</td>\n",
       "    </tr>\n",
       "    <tr>\n",
       "      <th>top</th>\n",
       "      <td>TCS</td>\n",
       "      <td>NaN</td>\n",
       "      <td>NaN</td>\n",
       "      <td>Mumbai</td>\n",
       "      <td>India</td>\n",
       "      <td>NaN</td>\n",
       "    </tr>\n",
       "    <tr>\n",
       "      <th>freq</th>\n",
       "      <td>53</td>\n",
       "      <td>NaN</td>\n",
       "      <td>NaN</td>\n",
       "      <td>37</td>\n",
       "      <td>148</td>\n",
       "      <td>NaN</td>\n",
       "    </tr>\n",
       "    <tr>\n",
       "      <th>mean</th>\n",
       "      <td>NaN</td>\n",
       "      <td>30.484615</td>\n",
       "      <td>5312.467742</td>\n",
       "      <td>NaN</td>\n",
       "      <td>NaN</td>\n",
       "      <td>0.222973</td>\n",
       "    </tr>\n",
       "    <tr>\n",
       "      <th>std</th>\n",
       "      <td>NaN</td>\n",
       "      <td>11.096640</td>\n",
       "      <td>2573.764683</td>\n",
       "      <td>NaN</td>\n",
       "      <td>NaN</td>\n",
       "      <td>0.417654</td>\n",
       "    </tr>\n",
       "    <tr>\n",
       "      <th>min</th>\n",
       "      <td>NaN</td>\n",
       "      <td>0.000000</td>\n",
       "      <td>1089.000000</td>\n",
       "      <td>NaN</td>\n",
       "      <td>NaN</td>\n",
       "      <td>0.000000</td>\n",
       "    </tr>\n",
       "    <tr>\n",
       "      <th>25%</th>\n",
       "      <td>NaN</td>\n",
       "      <td>22.000000</td>\n",
       "      <td>3030.000000</td>\n",
       "      <td>NaN</td>\n",
       "      <td>NaN</td>\n",
       "      <td>0.000000</td>\n",
       "    </tr>\n",
       "    <tr>\n",
       "      <th>50%</th>\n",
       "      <td>NaN</td>\n",
       "      <td>32.500000</td>\n",
       "      <td>5000.000000</td>\n",
       "      <td>NaN</td>\n",
       "      <td>NaN</td>\n",
       "      <td>0.000000</td>\n",
       "    </tr>\n",
       "    <tr>\n",
       "      <th>75%</th>\n",
       "      <td>NaN</td>\n",
       "      <td>37.750000</td>\n",
       "      <td>8000.000000</td>\n",
       "      <td>NaN</td>\n",
       "      <td>NaN</td>\n",
       "      <td>0.000000</td>\n",
       "    </tr>\n",
       "    <tr>\n",
       "      <th>max</th>\n",
       "      <td>NaN</td>\n",
       "      <td>54.000000</td>\n",
       "      <td>9876.000000</td>\n",
       "      <td>NaN</td>\n",
       "      <td>NaN</td>\n",
       "      <td>1.000000</td>\n",
       "    </tr>\n",
       "  </tbody>\n",
       "</table>\n",
       "</div>"
      ],
      "text/plain": [
       "       Company         Age       Salary   Place Country      Gender\n",
       "count      140  130.000000   124.000000     134     148  148.000000\n",
       "unique       6         NaN          NaN      11       1         NaN\n",
       "top        TCS         NaN          NaN  Mumbai   India         NaN\n",
       "freq        53         NaN          NaN      37     148         NaN\n",
       "mean       NaN   30.484615  5312.467742     NaN     NaN    0.222973\n",
       "std        NaN   11.096640  2573.764683     NaN     NaN    0.417654\n",
       "min        NaN    0.000000  1089.000000     NaN     NaN    0.000000\n",
       "25%        NaN   22.000000  3030.000000     NaN     NaN    0.000000\n",
       "50%        NaN   32.500000  5000.000000     NaN     NaN    0.000000\n",
       "75%        NaN   37.750000  8000.000000     NaN     NaN    0.000000\n",
       "max        NaN   54.000000  9876.000000     NaN     NaN    1.000000"
      ]
     },
     "execution_count": 7,
     "metadata": {},
     "output_type": "execute_result"
    }
   ],
   "source": [
    "df.describe(include='all') \n"
   ]
  },
  {
   "cell_type": "code",
   "execution_count": 8,
   "id": "9322eab3-28a0-4fed-a589-4be04fb2f1c7",
   "metadata": {},
   "outputs": [
    {
     "data": {
      "text/plain": [
       "Index(['company', 'age', 'salary', 'place', 'country', 'gender'], dtype='object')"
      ]
     },
     "execution_count": 8,
     "metadata": {},
     "output_type": "execute_result"
    }
   ],
   "source": [
    "df.columns = [col.strip().lower().replace(\" \", \"_\") for col in df.columns]\n",
    "df.columns\n"
   ]
  },
  {
   "cell_type": "markdown",
   "id": "651123b7-f051-40e4-977e-1d9af4d6ecb1",
   "metadata": {},
   "source": [
    "Data Cleaning:Find the missing and inappropriate values, treat them appropriately. Remove all duplicate rows. Find the outliers. Replace the value 0 in age as NaN Treat the null values in all columns using any measures(removing/ replace the values with mean/median/mode) "
   ]
  },
  {
   "cell_type": "code",
   "execution_count": 9,
   "id": "b8120010-7817-431d-87d7-c83947dfb5c1",
   "metadata": {},
   "outputs": [
    {
     "data": {
      "text/plain": [
       "company     8\n",
       "age        18\n",
       "salary     24\n",
       "place      14\n",
       "country     0\n",
       "gender      0\n",
       "dtype: int64"
      ]
     },
     "execution_count": 9,
     "metadata": {},
     "output_type": "execute_result"
    }
   ],
   "source": [
    "df.isnull().sum()\n"
   ]
  },
  {
   "cell_type": "code",
   "execution_count": 10,
   "id": "11647fca-bd20-4f31-aece-3b7ff34a757b",
   "metadata": {},
   "outputs": [],
   "source": [
    "df['age'] = df['age'].replace(0, np.nan)\n"
   ]
  },
  {
   "cell_type": "code",
   "execution_count": 12,
   "id": "71ce7eaf-94f3-4f9a-a1ec-7945842598ae",
   "metadata": {},
   "outputs": [],
   "source": [
    "df = df.drop_duplicates()\n"
   ]
  },
  {
   "cell_type": "code",
   "execution_count": 14,
   "id": "329bb76e-279c-4d24-881f-2d58cfac46c6",
   "metadata": {},
   "outputs": [],
   "source": [
    "# Replace 0 in age with NaN\n",
    "df['age'] = df['age'].replace(0, np.nan)\n",
    "\n",
    "# Fill missing values in 'age' with median\n",
    "df['age'] = df['age'].fillna(df['age'].median())\n",
    "\n",
    "# Fill missing values in categorical columns with mode\n",
    "for col in df.select_dtypes(include='object').columns:\n",
    "    df[col] = df[col].fillna(df[col].mode()[0])\n"
   ]
  },
  {
   "cell_type": "code",
   "execution_count": 15,
   "id": "5f19ae2b-1b27-4d8e-bed3-28d2a0b96600",
   "metadata": {},
   "outputs": [
    {
     "name": "stdout",
     "output_type": "stream",
     "text": [
      "Outliers in Age: 0\n",
      "Outliers in Salary: 0\n"
     ]
    }
   ],
   "source": [
    "def detect_outliers(col):\n",
    "    Q1 = df[col].quantile(0.25)\n",
    "    Q3 = df[col].quantile(0.75)\n",
    "    IQR = Q3 - Q1\n",
    "    lower = Q1 - 1.5 * IQR\n",
    "    upper = Q3 + 1.5 * IQR\n",
    "    return df[(df[col] < lower) | (df[col] > upper)]\n",
    "\n",
    "outliers_age = detect_outliers('age')\n",
    "outliers_salary = detect_outliers('salary')\n",
    "print(f\"Outliers in Age: {len(outliers_age)}\")\n",
    "print(f\"Outliers in Salary: {len(outliers_salary)}\")\n"
   ]
  },
  {
   "cell_type": "markdown",
   "id": "44a51cc2-a2d4-44c1-9410-4a17c1831a36",
   "metadata": {},
   "source": [
    "Data Analysis:Filter the data with age >40 and salary<5000 Plot the chart with age and salary Count the number of people from each place and represent it visually "
   ]
  },
  {
   "cell_type": "code",
   "execution_count": 16,
   "id": "b694b9df-3a52-4fd7-8718-a759055d50c4",
   "metadata": {},
   "outputs": [
    {
     "data": {
      "text/html": [
       "<div>\n",
       "<style scoped>\n",
       "    .dataframe tbody tr th:only-of-type {\n",
       "        vertical-align: middle;\n",
       "    }\n",
       "\n",
       "    .dataframe tbody tr th {\n",
       "        vertical-align: top;\n",
       "    }\n",
       "\n",
       "    .dataframe thead th {\n",
       "        text-align: right;\n",
       "    }\n",
       "</style>\n",
       "<table border=\"1\" class=\"dataframe\">\n",
       "  <thead>\n",
       "    <tr style=\"text-align: right;\">\n",
       "      <th></th>\n",
       "      <th>company</th>\n",
       "      <th>age</th>\n",
       "      <th>salary</th>\n",
       "      <th>place</th>\n",
       "      <th>country</th>\n",
       "      <th>gender</th>\n",
       "    </tr>\n",
       "  </thead>\n",
       "  <tbody>\n",
       "    <tr>\n",
       "      <th>21</th>\n",
       "      <td>Infosys</td>\n",
       "      <td>50.0</td>\n",
       "      <td>3184.0</td>\n",
       "      <td>Delhi</td>\n",
       "      <td>India</td>\n",
       "      <td>0</td>\n",
       "    </tr>\n",
       "    <tr>\n",
       "      <th>32</th>\n",
       "      <td>Infosys</td>\n",
       "      <td>45.0</td>\n",
       "      <td>4034.0</td>\n",
       "      <td>Calcutta</td>\n",
       "      <td>India</td>\n",
       "      <td>0</td>\n",
       "    </tr>\n",
       "    <tr>\n",
       "      <th>39</th>\n",
       "      <td>Infosys</td>\n",
       "      <td>41.0</td>\n",
       "      <td>3000.0</td>\n",
       "      <td>Mumbai</td>\n",
       "      <td>India</td>\n",
       "      <td>0</td>\n",
       "    </tr>\n",
       "    <tr>\n",
       "      <th>50</th>\n",
       "      <td>Infosys</td>\n",
       "      <td>41.0</td>\n",
       "      <td>3000.0</td>\n",
       "      <td>Chennai</td>\n",
       "      <td>India</td>\n",
       "      <td>0</td>\n",
       "    </tr>\n",
       "    <tr>\n",
       "      <th>57</th>\n",
       "      <td>Infosys</td>\n",
       "      <td>51.0</td>\n",
       "      <td>3184.0</td>\n",
       "      <td>Hyderabad</td>\n",
       "      <td>India</td>\n",
       "      <td>0</td>\n",
       "    </tr>\n",
       "  </tbody>\n",
       "</table>\n",
       "</div>"
      ],
      "text/plain": [
       "    company   age  salary      place country  gender\n",
       "21  Infosys  50.0  3184.0      Delhi   India       0\n",
       "32  Infosys  45.0  4034.0   Calcutta   India       0\n",
       "39  Infosys  41.0  3000.0     Mumbai   India       0\n",
       "50  Infosys  41.0  3000.0    Chennai   India       0\n",
       "57  Infosys  51.0  3184.0  Hyderabad   India       0"
      ]
     },
     "execution_count": 16,
     "metadata": {},
     "output_type": "execute_result"
    }
   ],
   "source": [
    "filtered_df = df[(df['age'] > 40) & (df['salary'] < 5000)]\n",
    "filtered_df.head()\n"
   ]
  },
  {
   "cell_type": "code",
   "execution_count": 17,
   "id": "c0a77ea6-20b8-446e-8666-7391e6d37799",
   "metadata": {},
   "outputs": [
    {
     "data": {
      "image/png": "[encoded data removed]",
      "text/plain": [
       "<Figure size 800x500 with 1 Axes>"
      ]
     },
     "metadata": {},
     "output_type": "display_data"
    }
   ],
   "source": [
    "plt.figure(figsize=(8,5))\n",
    "sns.scatterplot(data=filtered_df, x='age', y='salary')\n",
    "plt.title(\"Age vs Salary (Age > 40 & Salary < 5000)\")\n",
    "plt.show()\n"
   ]
  },
  {
   "cell_type": "code",
   "execution_count": 18,
   "id": "2c685bea-122f-4372-b9a2-47da4b4dcb4c",
   "metadata": {},
   "outputs": [
    {
     "data": {
      "image/png": "[encoded data removed]",
      "text/plain": [
       "<Figure size 1000x600 with 1 Axes>"
      ]
     },
     "metadata": {},
     "output_type": "display_data"
    }
   ],
   "source": [
    "place_count = df['place'].value_counts()\n",
    "\n",
    "# Bar plot\n",
    "plt.figure(figsize=(10,6))\n",
    "sns.barplot(x=place_count.index, y=place_count.values)\n",
    "plt.title(\"Number of People from Each Place\")\n",
    "plt.xticks(rotation=45)\n",
    "plt.show()\n"
   ]
  },
  {
   "cell_type": "markdown",
   "id": "c46cd3a3-cbdb-4cc1-a641-2cd864ced335",
   "metadata": {},
   "source": [
    "Data Encoding:Convert categorical variables into numerical representations using techniques such as one-hot encoding, label encoding, making them suitable for analysis by machine learning algorithms. "
   ]
  },
  {
   "cell_type": "code",
   "execution_count": 19,
   "id": "75fb83cd-76ee-4c19-bf3b-aabf4558ec7c",
   "metadata": {},
   "outputs": [],
   "source": [
    "le = LabelEncoder()\n",
    "df['gender'] = le.fit_transform(df['gender'])  # Example\n"
   ]
  },
  {
   "cell_type": "code",
   "execution_count": 20,
   "id": "36eb88e3-7e95-4bdd-8b10-51fc43fd712d",
   "metadata": {},
   "outputs": [],
   "source": [
    "df = pd.get_dummies(df, columns=['place'], drop_first=True)\n"
   ]
  },
  {
   "cell_type": "markdown",
   "id": "f99f8f30-589e-476a-9ede-ca5b74589471",
   "metadata": {},
   "source": [
    "Feature Scaling:After the process of encoding, perform the scaling of the features using standardscaler and minmaxscaler. "
   ]
  },
  {
   "cell_type": "code",
   "execution_count": 21,
   "id": "f0cd5765-4d45-42e2-bcf4-76a5626161c6",
   "metadata": {},
   "outputs": [],
   "source": [
    "scaler_standard = StandardScaler()\n",
    "scaled_standard = scaler_standard.fit_transform(df[['age', 'salary']])\n",
    "df[['age_scaled_std', 'salary_scaled_std']] = scaled_standard\n"
   ]
  },
  {
   "cell_type": "code",
   "execution_count": 22,
   "id": "fc58362f-4452-4663-b30f-c7fb6d2c4944",
   "metadata": {},
   "outputs": [],
   "source": [
    "scaler_minmax = MinMaxScaler()\n",
    "scaled_minmax = scaler_minmax.fit_transform(df[['age', 'salary']])\n",
    "df[['age_scaled_minmax', 'salary_scaled_minmax']] = scaled_minmax\n"
   ]
  },
  {
   "cell_type": "code",
   "execution_count": 23,
   "id": "c3d15231-1ac1-4a22-b47e-6ff2298913e8",
   "metadata": {},
   "outputs": [
    {
     "name": "stdout",
     "output_type": "stream",
     "text": [
      "<class 'pandas.core.frame.DataFrame'>\n",
      "Index: 144 entries, 0 to 147\n",
      "Data columns (total 19 columns):\n",
      " #   Column                Non-Null Count  Dtype  \n",
      "---  ------                --------------  -----  \n",
      " 0   company               144 non-null    object \n",
      " 1   age                   144 non-null    float64\n",
      " 2   salary                121 non-null    float64\n",
      " 3   country               144 non-null    object \n",
      " 4   gender                144 non-null    int64  \n",
      " 5   place_Calcutta        144 non-null    bool   \n",
      " 6   place_Chennai         144 non-null    bool   \n",
      " 7   place_Cochin          144 non-null    bool   \n",
      " 8   place_Delhi           144 non-null    bool   \n",
      " 9   place_Hyderabad       144 non-null    bool   \n",
      " 10  place_Mumbai          144 non-null    bool   \n",
      " 11  place_Nagpur          144 non-null    bool   \n",
      " 12  place_Noida           144 non-null    bool   \n",
      " 13  place_Podicherry      144 non-null    bool   \n",
      " 14  place_Pune            144 non-null    bool   \n",
      " 15  age_scaled_std        144 non-null    float64\n",
      " 16  salary_scaled_std     121 non-null    float64\n",
      " 17  age_scaled_minmax     144 non-null    float64\n",
      " 18  salary_scaled_minmax  121 non-null    float64\n",
      "dtypes: bool(10), float64(6), int64(1), object(2)\n",
      "memory usage: 12.7+ KB\n"
     ]
    }
   ],
   "source": [
    "df.head()\n",
    "df.info()\n"
   ]
  },
  {
   "cell_type": "code",
   "execution_count": 24,
   "id": "f15c1328-7311-4e8e-8259-eff2e464b6ab",
   "metadata": {},
   "outputs": [],
   "source": [
    "df.to_csv(\"cleaned_preprocessed_data.csv\", index=False)\n"
   ]
  },
  {
   "cell_type": "code",
   "execution_count": null,
   "id": "8420de02-fb22-49fb-84da-921c7c8e5837",
   "metadata": {},
   "outputs": [],
   "source": []
  }
 ],
 "metadata": {
  "kernelspec": {
   "display_name": "Python 3 (ipykernel)",
   "language": "python",
   "name": "python3"
  },
  "language_info": {
   "codemirror_mode": {
    "name": "ipython",
    "version": 3
   },
   "file_extension": ".py",
   "mimetype": "text/x-python",
   "name": "python",
   "nbconvert_exporter": "python",
   "pygments_lexer": "ipython3",
   "version": "3.12.7"
  }
 },
 "nbformat": 4,
 "nbformat_minor": 5
}
